{
 "cells": [
  {
   "cell_type": "code",
   "execution_count": 12,
   "id": "cf549341-2019-4f93-b704-c9d15ada7517",
   "metadata": {},
   "outputs": [],
   "source": [
    "# Import required libraries\n",
    "from pyspark.sql import SparkSession\n",
    "from pyspark.sql.functions import col, count, desc, avg, max, min, split, length, collect_list"
   ]
  },
  {
   "cell_type": "code",
   "execution_count": 13,
   "id": "4d31b1c9-08d9-4cc7-a8a6-bc75043ad3fe",
   "metadata": {},
   "outputs": [],
   "source": [
    "# Initialize Spark session\n",
    "def initialize_spark():\n",
    "    return SparkSession.builder \\\n",
    "        .appName(\"Netflix Data Insights\") \\\n",
    "        .getOrCreate()"
   ]
  },
  {
   "cell_type": "code",
   "execution_count": 14,
   "id": "ee9bfbdf-e85f-4021-a4d7-53119f527f62",
   "metadata": {},
   "outputs": [],
   "source": [
    "# Load dataset function\n",
    "def load_data(session, file_path):\n",
    "    return session.read.csv(file_path, header=True, inferSchema=True)"
   ]
  },
  {
   "cell_type": "code",
   "execution_count": 15,
   "id": "9f0fb04b-5bd7-4fd9-8f1e-4010b4105b78",
   "metadata": {},
   "outputs": [],
   "source": [
    "# Perform basic exploration\n",
    "def explore_data(dataframe):\n",
    "    print(\"Dataset Overview:\\n\")\n",
    "    dataframe.printSchema()\n",
    "    print(f\"Total Records: {dataframe.count()}\\n\")\n",
    "    dataframe.show(5, truncate=False)"
   ]
  },
  {
   "cell_type": "code",
   "execution_count": 16,
   "id": "5ebed7ba-6623-431e-9d40-b7bcdb64d3ee",
   "metadata": {},
   "outputs": [],
   "source": [
    "# Display data summary\n",
    "def data_summary(dataframe):\n",
    "    print(\"Data Summary:\\n\")\n",
    "    dataframe.describe().show()"
   ]
  },
  {
   "cell_type": "code",
   "execution_count": 17,
   "id": "a1c39624-8c24-43f1-a7b4-96733f66e402",
   "metadata": {},
   "outputs": [],
   "source": [
    "# Count records by category\n",
    "def count_by_category(dataframe, column_name):\n",
    "    print(f\"Record Count by {column_name}:\\n\")\n",
    "    dataframe.groupBy(column_name).count().orderBy(desc(\"count\")).show()"
   ]
  },
  {
   "cell_type": "code",
   "execution_count": 19,
   "id": "609ced56-2a6b-4b7f-b749-9adb776e5270",
   "metadata": {},
   "outputs": [
    {
     "name": "stdout",
     "output_type": "stream",
     "text": [
      "Dataset Overview:\n",
      "\n",
      "root\n",
      " |-- show_id: string (nullable = true)\n",
      " |-- type: string (nullable = true)\n",
      " |-- title: string (nullable = true)\n",
      " |-- director: string (nullable = true)\n",
      " |-- cast: string (nullable = true)\n",
      " |-- country: string (nullable = true)\n",
      " |-- date_added: string (nullable = true)\n",
      " |-- release_year: string (nullable = true)\n",
      " |-- rating: string (nullable = true)\n",
      " |-- duration: string (nullable = true)\n",
      " |-- listed_in: string (nullable = true)\n",
      " |-- description: string (nullable = true)\n",
      "\n",
      "Total Records: 8809\n",
      "\n",
      "+-------+-------+---------------------+---------------+---------------------------------------------------------------------------------------------------------------------------------------------------------------------------------------------------------------------------------------------------------------------------------------------------------------+-------------+------------------+------------+------+---------+-------------------------------------------------------------+--------------------------------------------------------------------------------------------------------------------------------------------------------+\n",
      "|show_id|type   |title                |director       |cast                                                                                                                                                                                                                                                                                                           |country      |date_added        |release_year|rating|duration |listed_in                                                    |description                                                                                                                                             |\n",
      "+-------+-------+---------------------+---------------+---------------------------------------------------------------------------------------------------------------------------------------------------------------------------------------------------------------------------------------------------------------------------------------------------------------+-------------+------------------+------------+------+---------+-------------------------------------------------------------+--------------------------------------------------------------------------------------------------------------------------------------------------------+\n",
      "|s1     |Movie  |Dick Johnson Is Dead |Kirsten Johnson|NULL                                                                                                                                                                                                                                                                                                           |United States|September 25, 2021|2020        |PG-13 |90 min   |Documentaries                                                |As her father nears the end of his life, filmmaker Kirsten Johnson stages his death in inventive and comical ways to help them both face the inevitable.|\n",
      "|s2     |TV Show|Blood & Water        |NULL           |Ama Qamata, Khosi Ngema, Gail Mabalane, Thabang Molaba, Dillon Windvogel, Natasha Thahane, Arno Greeff, Xolile Tshabalala, Getmore Sithole, Cindy Mahlangu, Ryle De Morny, Greteli Fincham, Sello Maake Ka-Ncube, Odwa Gwanya, Mekaila Mathys, Sandi Schultz, Duane Williams, Shamilla Miller, Patrick Mofokeng|South Africa |September 24, 2021|2021        |TV-MA |2 Seasons|International TV Shows, TV Dramas, TV Mysteries              |After crossing paths at a party, a Cape Town teen sets out to prove whether a private-school swimming star is her sister who was abducted at birth.     |\n",
      "|s3     |TV Show|Ganglands            |Julien Leclercq|Sami Bouajila, Tracy Gotoas, Samuel Jouy, Nabiha Akkari, Sofia Lesaffre, Salim Kechiouche, Noureddine Farihi, Geert Van Rampelberg, Bakary Diombera                                                                                                                                                            |NULL         |September 24, 2021|2021        |TV-MA |1 Season |Crime TV Shows, International TV Shows, TV Action & Adventure|To protect his family from a powerful drug lord, skilled thief Mehdi and his expert team of robbers are pulled into a violent and deadly turf war.      |\n",
      "|s4     |TV Show|Jailbirds New Orleans|NULL           |NULL                                                                                                                                                                                                                                                                                                           |NULL         |September 24, 2021|2021        |TV-MA |1 Season |Docuseries, Reality TV                                       |Feuds, flirtations and toilet talk go down among the incarcerated women at the Orleans Justice Center in New Orleans on this gritty reality series.     |\n",
      "|s5     |TV Show|Kota Factory         |NULL           |Mayur More, Jitendra Kumar, Ranjan Raj, Alam Khan, Ahsaas Channa, Revathi Pillai, Urvi Singh, Arun Kumar                                                                                                                                                                                                       |India        |September 24, 2021|2021        |TV-MA |2 Seasons|International TV Shows, Romantic TV Shows, TV Comedies       |In a city of coaching centers known to train India’s finest collegiate minds, an earnest but unexceptional student and his friends navigate campus life.|\n",
      "+-------+-------+---------------------+---------------+---------------------------------------------------------------------------------------------------------------------------------------------------------------------------------------------------------------------------------------------------------------------------------------------------------------+-------------+------------------+------------+------+---------+-------------------------------------------------------------+--------------------------------------------------------------------------------------------------------------------------------------------------------+\n",
      "only showing top 5 rows\n",
      "\n",
      "Data Summary:\n",
      "\n",
      "+-------+--------------------+-------------+---------------------------------+--------------------+--------------------+----------------+---------------+-----------------+-----------------+-------------+--------------------+--------------------+\n",
      "|summary|             show_id|         type|                            title|            director|                cast|         country|     date_added|     release_year|           rating|     duration|           listed_in|         description|\n",
      "+-------+--------------------+-------------+---------------------------------+--------------------+--------------------+----------------+---------------+-----------------+-----------------+-------------+--------------------+--------------------+\n",
      "|  count|                8809|         8808|                             8807|                6173|                7983|            7977|           8796|             8807|             8803|         8804|                8806|                8806|\n",
      "|   mean|                NULL|         NULL|               1124.7692307692307|                NULL|                NULL|          1944.0|           NULL|2014.189598270172|           2016.8|       1994.0|                NULL|  2014.6666666666667|\n",
      "| stddev|                NULL|         NULL|               1042.1800991068478|                NULL|                NULL|            NULL|           NULL|8.786618147271653|6.260990336999442|         NULL|                NULL|   4.509249752822894|\n",
      "|    min| and probably will.\"|        Movie|             \"Behind \"\"The Cov...|\"Sam \"\"Blitz\"\" Ba...|\"Black Deniro, By...| Ama K. Abebrese| April 15, 2018|   Charles Rocket|    Adriane Lenox| Alan Cumming|          Akin Lewis|      Alicia Sánchez|\n",
      "|    max|                s999|William Wyler|최강전사 미니특공대 : 영웅의 탄생|        Şenol Sönmez|Ṣọpẹ́ Dìrísù, Wun...|        Zimbabwe|  United States|    United States|               UR|United States|United States, Un...|“Last Chance U” h...|\n",
      "+-------+--------------------+-------------+---------------------------------+--------------------+--------------------+----------------+---------------+-----------------+-----------------+-------------+--------------------+--------------------+\n",
      "\n",
      "Record Count by type:\n",
      "\n",
      "+-------------+-----+\n",
      "|         type|count|\n",
      "+-------------+-----+\n",
      "|        Movie| 6131|\n",
      "|      TV Show| 2676|\n",
      "|         NULL|    1|\n",
      "|William Wyler|    1|\n",
      "+-------------+-----+\n",
      "\n"
     ]
    }
   ],
   "source": [
    "# Main function\n",
    "if __name__ == \"__main__\":\n",
    "    spark = initialize_spark()\n",
    "    data_file = \"netflix_titles.csv\"\n",
    "    netflix_df = load_data(spark, data_file)\n",
    "    \n",
    "    # Perform initial data exploration\n",
    "    explore_data(netflix_df)\n",
    "    \n",
    "    # Show summary statistics\n",
    "    data_summary(netflix_df)\n",
    "    \n",
    "    # Count shows by type\n",
    "    count_by_category(netflix_df, \"type\")"
   ]
  },
  {
   "cell_type": "code",
   "execution_count": null,
   "id": "a5662379-beeb-4b47-96ae-01dd2901600c",
   "metadata": {},
   "outputs": [],
   "source": []
  }
 ],
 "metadata": {
  "kernelspec": {
   "display_name": "Python 3 (ipykernel)",
   "language": "python",
   "name": "python3"
  },
  "language_info": {
   "codemirror_mode": {
    "name": "ipython",
    "version": 3
   },
   "file_extension": ".py",
   "mimetype": "text/x-python",
   "name": "python",
   "nbconvert_exporter": "python",
   "pygments_lexer": "ipython3",
   "version": "3.11.6"
  }
 },
 "nbformat": 4,
 "nbformat_minor": 5
}
